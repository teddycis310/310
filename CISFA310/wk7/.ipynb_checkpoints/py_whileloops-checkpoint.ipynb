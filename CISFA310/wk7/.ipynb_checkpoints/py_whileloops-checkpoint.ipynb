{
 "cells": [
  {
   "cell_type": "markdown",
   "id": "7e67a811",
   "metadata": {},
   "source": [
    "# Teddy Nyambe\n",
    "## Week 6 - 10/18/22\n",
    "### While loops\n"
   ]
  },
  {
   "cell_type": "code",
   "execution_count": 1,
   "id": "ac6ef92e",
   "metadata": {},
   "outputs": [
    {
     "name": "stdout",
     "output_type": "stream",
     "text": [
      "1\n",
      "2\n",
      "3\n",
      "4\n",
      "5\n"
     ]
    }
   ],
   "source": [
    "num = 1\n",
    "while num < 6:\n",
    "    print (num)\n",
    "    num += 1\n",
    "    "
   ]
  },
  {
   "cell_type": "code",
   "execution_count": 2,
   "id": "c2600f56",
   "metadata": {},
   "outputs": [
    {
     "name": "stdout",
     "output_type": "stream",
     "text": [
      "1\n",
      "2\n",
      "3\n",
      "4\n",
      "5\n",
      "End of file loop num = 6\n"
     ]
    }
   ],
   "source": [
    "num = 1\n",
    "while num < 6:\n",
    "    print (num)\n",
    "    num+=1\n",
    "else:\n",
    "    print(f'End of file loop num = {num}')"
   ]
  },
  {
   "cell_type": "code",
   "execution_count": null,
   "id": "a94d1590",
   "metadata": {},
   "outputs": [],
   "source": []
  }
 ],
 "metadata": {
  "kernelspec": {
   "display_name": "Python 3 (ipykernel)",
   "language": "python",
   "name": "python3"
  },
  "language_info": {
   "codemirror_mode": {
    "name": "ipython",
    "version": 3
   },
   "file_extension": ".py",
   "mimetype": "text/x-python",
   "name": "python",
   "nbconvert_exporter": "python",
   "pygments_lexer": "ipython3",
   "version": "3.9.12"
  }
 },
 "nbformat": 4,
 "nbformat_minor": 5
}
