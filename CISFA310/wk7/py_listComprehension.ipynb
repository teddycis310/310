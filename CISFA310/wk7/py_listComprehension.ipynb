{
 "cells": [
  {
   "cell_type": "markdown",
   "id": "5b1a8df6",
   "metadata": {},
   "source": [
    "# Teddy Nyambe\n",
    "## Week 7 18/10/22\n",
    "### Python List Comprehension"
   ]
  },
  {
   "cell_type": "code",
   "execution_count": 1,
   "id": "b253bfa0",
   "metadata": {},
   "outputs": [],
   "source": [
    "s = 'hello'"
   ]
  },
  {
   "cell_type": "code",
   "execution_count": 2,
   "id": "4029edd5",
   "metadata": {},
   "outputs": [
    {
     "data": {
      "text/plain": [
       "'hello'"
      ]
     },
     "execution_count": 2,
     "metadata": {},
     "output_type": "execute_result"
    }
   ],
   "source": [
    "s"
   ]
  },
  {
   "cell_type": "code",
   "execution_count": 3,
   "id": "33217729",
   "metadata": {},
   "outputs": [
    {
     "data": {
      "text/plain": [
       "str"
      ]
     },
     "execution_count": 3,
     "metadata": {},
     "output_type": "execute_result"
    }
   ],
   "source": [
    "type(s)"
   ]
  },
  {
   "cell_type": "code",
   "execution_count": 4,
   "id": "3100b9c8",
   "metadata": {},
   "outputs": [
    {
     "ename": "NameError",
     "evalue": "name 'lst' is not defined",
     "output_type": "error",
     "traceback": [
      "\u001b[0;31m---------------------------------------------------------------------------\u001b[0m",
      "\u001b[0;31mNameError\u001b[0m                                 Traceback (most recent call last)",
      "Input \u001b[0;32mIn [4]\u001b[0m, in \u001b[0;36m<cell line: 2>\u001b[0;34m()\u001b[0m\n\u001b[1;32m      1\u001b[0m \u001b[38;5;28mstr\u001b[39m \u001b[38;5;241m=\u001b[39m []\n\u001b[1;32m      2\u001b[0m \u001b[38;5;28;01mfor\u001b[39;00m c \u001b[38;5;129;01min\u001b[39;00m s:\n\u001b[0;32m----> 3\u001b[0m     \u001b[43mlst\u001b[49m\u001b[38;5;241m.\u001b[39mappend(c)\n\u001b[1;32m      4\u001b[0m lst\n",
      "\u001b[0;31mNameError\u001b[0m: name 'lst' is not defined"
     ]
    }
   ],
   "source": [
    "str = []\n",
    "for c in s:\n",
    "    lst.append(c)\n",
    "lst"
   ]
  },
  {
   "cell_type": "code",
   "execution_count": 6,
   "id": "a56f850e",
   "metadata": {},
   "outputs": [
    {
     "data": {
      "text/plain": [
       "['h', 'e', 'l', 'l', 'o']"
      ]
     },
     "execution_count": 6,
     "metadata": {},
     "output_type": "execute_result"
    }
   ],
   "source": [
    "lst = []\n",
    "for c in s:\n",
    "    lst.append(c)\n",
    "lst"
   ]
  },
  {
   "cell_type": "code",
   "execution_count": 7,
   "id": "a51b64cc",
   "metadata": {},
   "outputs": [],
   "source": [
    "lst1 = []\n",
    "lst1 = [c for c in s]"
   ]
  },
  {
   "cell_type": "code",
   "execution_count": 8,
   "id": "94f1a935",
   "metadata": {},
   "outputs": [
    {
     "data": {
      "text/plain": [
       "['h', 'e', 'l', 'l', 'o']"
      ]
     },
     "execution_count": 8,
     "metadata": {},
     "output_type": "execute_result"
    }
   ],
   "source": [
    "lst1"
   ]
  },
  {
   "cell_type": "code",
   "execution_count": 9,
   "id": "bc96e1be",
   "metadata": {},
   "outputs": [],
   "source": [
    "lst2 = [c for c in s]"
   ]
  },
  {
   "cell_type": "code",
   "execution_count": 10,
   "id": "1704452e",
   "metadata": {},
   "outputs": [
    {
     "data": {
      "text/plain": [
       "['h', 'e', 'l', 'l', 'o']"
      ]
     },
     "execution_count": 10,
     "metadata": {},
     "output_type": "execute_result"
    }
   ],
   "source": [
    "lst2"
   ]
  },
  {
   "cell_type": "code",
   "execution_count": 11,
   "id": "b48c6c45",
   "metadata": {},
   "outputs": [],
   "source": [
    "l = [i for i in range(0,50,10)]"
   ]
  },
  {
   "cell_type": "code",
   "execution_count": 12,
   "id": "ff318b55",
   "metadata": {},
   "outputs": [
    {
     "data": {
      "text/plain": [
       "[0, 10, 20, 30, 40]"
      ]
     },
     "execution_count": 12,
     "metadata": {},
     "output_type": "execute_result"
    }
   ],
   "source": [
    "l"
   ]
  },
  {
   "cell_type": "code",
   "execution_count": 13,
   "id": "4a053f45",
   "metadata": {},
   "outputs": [],
   "source": [
    "txns = [1.09, 23.56, 57.84, 4.56, 6.78]"
   ]
  },
  {
   "cell_type": "code",
   "execution_count": 14,
   "id": "0249188e",
   "metadata": {},
   "outputs": [],
   "source": [
    "TAX_RATE = .08"
   ]
  },
  {
   "cell_type": "code",
   "execution_count": 15,
   "id": "e0204874",
   "metadata": {},
   "outputs": [],
   "source": [
    "final_price = [(1 * TAX_RATE) + i for i in txns]"
   ]
  },
  {
   "cell_type": "code",
   "execution_count": 16,
   "id": "3fe75b09",
   "metadata": {},
   "outputs": [
    {
     "data": {
      "text/plain": [
       "[1.1700000000000002, 23.639999999999997, 57.92, 4.64, 6.86]"
      ]
     },
     "execution_count": 16,
     "metadata": {},
     "output_type": "execute_result"
    }
   ],
   "source": [
    "final_price"
   ]
  },
  {
   "cell_type": "code",
   "execution_count": 17,
   "id": "75d7095d",
   "metadata": {},
   "outputs": [],
   "source": [
    "final_price = [(txns[i] * TAX_RATE) + txns[i] for i in range(len(txns))]"
   ]
  },
  {
   "cell_type": "code",
   "execution_count": 18,
   "id": "7df406f6",
   "metadata": {},
   "outputs": [
    {
     "data": {
      "text/plain": [
       "[1.1772, 25.444799999999997, 62.467200000000005, 4.924799999999999, 7.3224]"
      ]
     },
     "execution_count": 18,
     "metadata": {},
     "output_type": "execute_result"
    }
   ],
   "source": [
    "final_price\n"
   ]
  },
  {
   "cell_type": "code",
   "execution_count": 19,
   "id": "0e900026",
   "metadata": {},
   "outputs": [
    {
     "data": {
      "text/plain": [
       "[1.1772, 25.444799999999997, 62.467200000000005, 4.924799999999999, 7.3224]"
      ]
     },
     "execution_count": 19,
     "metadata": {},
     "output_type": "execute_result"
    }
   ],
   "source": [
    "final_price = [(i * TAX_RATE) + i for i in txns]\n",
    "final_price"
   ]
  },
  {
   "cell_type": "code",
   "execution_count": 20,
   "id": "b587698e",
   "metadata": {},
   "outputs": [],
   "source": [
    "final_price = [(i * TAX_RATE) + i for i in txns]"
   ]
  },
  {
   "cell_type": "code",
   "execution_count": 21,
   "id": "e8482e99",
   "metadata": {},
   "outputs": [
    {
     "data": {
      "text/plain": [
       "[1.1772, 25.444799999999997, 62.467200000000005, 4.924799999999999, 7.3224]"
      ]
     },
     "execution_count": 21,
     "metadata": {},
     "output_type": "execute_result"
    }
   ],
   "source": [
    "final_price"
   ]
  },
  {
   "cell_type": "code",
   "execution_count": 22,
   "id": "5cad3adb",
   "metadata": {},
   "outputs": [],
   "source": [
    "less_than_5 = [a for a in txns if a < 5]"
   ]
  },
  {
   "cell_type": "code",
   "execution_count": 23,
   "id": "53873f1a",
   "metadata": {},
   "outputs": [
    {
     "data": {
      "text/plain": [
       "[1.09, 4.56]"
      ]
     },
     "execution_count": 23,
     "metadata": {},
     "output_type": "execute_result"
    }
   ],
   "source": [
    "less_than_5"
   ]
  },
  {
   "cell_type": "code",
   "execution_count": 24,
   "id": "4bb0692f",
   "metadata": {},
   "outputs": [
    {
     "data": {
      "text/plain": [
       "['Yes', 'No', 'Idle', 'Idle', 'Idle', 'No', 'Idle', 'Idle', 'Yes', 'No', 'Yes']"
      ]
     },
     "execution_count": 24,
     "metadata": {},
     "output_type": "execute_result"
    }
   ],
   "source": [
    "l = [1, 2, 3, 4, 5,2,3,4,1,2,1]\n",
    "new_lst =['Yes' if n == 1 else 'No' if n == 2 else 'Idle' for n in l]\n",
    "new_lst"
   ]
  },
  {
   "cell_type": "code",
   "execution_count": 25,
   "id": "48dc7211",
   "metadata": {},
   "outputs": [
    {
     "ename": "SyntaxError",
     "evalue": "invalid syntax (159454236.py, line 1)",
     "output_type": "error",
     "traceback": [
      "\u001b[0;36m  Input \u001b[0;32mIn [25]\u001b[0;36m\u001b[0m\n\u001b[0;31m    s = [i if i % 2 == 0 for i in l]\u001b[0m\n\u001b[0m                         ^\u001b[0m\n\u001b[0;31mSyntaxError\u001b[0m\u001b[0;31m:\u001b[0m invalid syntax\n"
     ]
    }
   ],
   "source": [
    "s = [i if i % 2 == 0 for i in l]"
   ]
  },
  {
   "cell_type": "code",
   "execution_count": 26,
   "id": "a511cc01",
   "metadata": {},
   "outputs": [
    {
     "ename": "NameError",
     "evalue": "name 'o' is not defined",
     "output_type": "error",
     "traceback": [
      "\u001b[0;31m---------------------------------------------------------------------------\u001b[0m",
      "\u001b[0;31mNameError\u001b[0m                                 Traceback (most recent call last)",
      "Input \u001b[0;32mIn [26]\u001b[0m, in \u001b[0;36m<cell line: 1>\u001b[0;34m()\u001b[0m\n\u001b[0;32m----> 1\u001b[0m s \u001b[38;5;241m=\u001b[39m [i \u001b[38;5;28;01mif\u001b[39;00m i \u001b[38;5;241m%\u001b[39m \u001b[38;5;241m2\u001b[39m \u001b[38;5;241m==\u001b[39m \u001b[38;5;241m0\u001b[39m \u001b[38;5;28;01melse\u001b[39;00m o \u001b[38;5;28;01mfor\u001b[39;00m i \u001b[38;5;129;01min\u001b[39;00m l]\n",
      "Input \u001b[0;32mIn [26]\u001b[0m, in \u001b[0;36m<listcomp>\u001b[0;34m(.0)\u001b[0m\n\u001b[0;32m----> 1\u001b[0m s \u001b[38;5;241m=\u001b[39m [i \u001b[38;5;28;01mif\u001b[39;00m i \u001b[38;5;241m%\u001b[39m \u001b[38;5;241m2\u001b[39m \u001b[38;5;241m==\u001b[39m \u001b[38;5;241m0\u001b[39m \u001b[38;5;28;01melse\u001b[39;00m \u001b[43mo\u001b[49m \u001b[38;5;28;01mfor\u001b[39;00m i \u001b[38;5;129;01min\u001b[39;00m l]\n",
      "\u001b[0;31mNameError\u001b[0m: name 'o' is not defined"
     ]
    }
   ],
   "source": [
    "s = [i if i % 2 == 0 else o for i in l]"
   ]
  },
  {
   "cell_type": "code",
   "execution_count": 27,
   "id": "72d4860d",
   "metadata": {},
   "outputs": [],
   "source": [
    "s = [i if i % 2 == 0 else 'old' for i in l]"
   ]
  },
  {
   "cell_type": "code",
   "execution_count": 28,
   "id": "54aad4ca",
   "metadata": {},
   "outputs": [
    {
     "data": {
      "text/plain": [
       "['old', 2, 'old', 4, 'old', 2, 'old', 4, 'old', 2, 'old']"
      ]
     },
     "execution_count": 28,
     "metadata": {},
     "output_type": "execute_result"
    }
   ],
   "source": [
    "s"
   ]
  },
  {
   "cell_type": "code",
   "execution_count": null,
   "id": "221e0490",
   "metadata": {},
   "outputs": [],
   "source": []
  }
 ],
 "metadata": {
  "kernelspec": {
   "display_name": "Python 3 (ipykernel)",
   "language": "python",
   "name": "python3"
  },
  "language_info": {
   "codemirror_mode": {
    "name": "ipython",
    "version": 3
   },
   "file_extension": ".py",
   "mimetype": "text/x-python",
   "name": "python",
   "nbconvert_exporter": "python",
   "pygments_lexer": "ipython3",
   "version": "3.9.12"
  }
 },
 "nbformat": 4,
 "nbformat_minor": 5
}
